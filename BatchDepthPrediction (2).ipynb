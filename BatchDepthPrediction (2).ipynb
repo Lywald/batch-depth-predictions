{
  "nbformat": 4,
  "nbformat_minor": 0,
  "metadata": {
    "colab": {
      "provenance": []
    },
    "kernelspec": {
      "name": "python3",
      "display_name": "Python 3"
    },
    "language_info": {
      "name": "python"
    }
  },
  "cells": [
    {
      "cell_type": "markdown",
      "source": [
        "# Batch Depth Prediction\n",
        "\n",
        "This Colab will allow you to import an unlimited amount of pictures (jpg or not jpg, many formats supported), and transform all of them into depth maps predictions, all at once. You can then download all of them as a zip file.\n",
        "\n",
        "How to Use:\n",
        "\n",
        "1.   Run the 1st cell to load dependencies and initialize folders in the Files pane \n",
        "2.   Right click \"inputFolder\" folder -> Import -> Select and load all your pictures \n",
        "3.   Run the 2nd cell to prepare the image processor\n",
        "4.   Run the 3rd cell to generate the depth maps\n",
        "5.   Download \"outputFolder\" as zip, by running the 4th and last cell\n",
        "\n",
        "(credits: https://huggingface.co/spaces/nielsr/dpt-depth-estimation  )\n"
      ],
      "metadata": {
        "id": "6niIqkjR-Ey4"
      }
    },
    {
      "cell_type": "markdown",
      "source": [
        "# Run this cell first to initialize dependencies and folders\n"
      ],
      "metadata": {
        "id": "bpwnSLIL9xuu"
      }
    },
    {
      "cell_type": "code",
      "source": [
        "!pip install transformers\n",
        "!pip install torch\n",
        "!pip install git+https://github.com/nielsrogge/transformers.git@add_dpt_redesign#egg=transformers\n",
        "!pip install numpy\n",
        "!pip install Pillow\n",
        "\n",
        "!mkdir inputFolder\n",
        "!mkdir outputFolder"
      ],
      "metadata": {
        "id": "osiLwJLV5w5S"
      },
      "execution_count": null,
      "outputs": []
    },
    {
      "cell_type": "markdown",
      "source": [
        "# Run this cell next to prepare the image processor"
      ],
      "metadata": {
        "id": "n5GPGhYjGp6-"
      }
    },
    {
      "cell_type": "code",
      "execution_count": null,
      "metadata": {
        "id": "w8ZEJLrr5i1W"
      },
      "outputs": [],
      "source": [
        "from transformers import DPTFeatureExtractor, DPTForDepthEstimation\n",
        "import torch\n",
        "import numpy as np\n",
        "import os\n",
        "from PIL import Image\n",
        "from google.colab import files\n",
        "\n",
        "torch.hub.download_url_to_file('http://images.cocodataset.org/val2017/000000039769.jpg', 'cats.jpg')\n",
        "\n",
        "feature_extractor = DPTFeatureExtractor.from_pretrained(\"Intel/dpt-large\")\n",
        "model = DPTForDepthEstimation.from_pretrained(\"Intel/dpt-large\")\n",
        "\n",
        "def process_image(image):\n",
        "    # prepare image for the model\n",
        "    encoding = feature_extractor(image, return_tensors=\"pt\")\n",
        "    \n",
        "    # forward pass\n",
        "    with torch.no_grad():\n",
        "       outputs = model(**encoding)\n",
        "       predicted_depth = outputs.predicted_depth\n",
        "    \n",
        "    # interpolate to original size\n",
        "    prediction = torch.nn.functional.interpolate(\n",
        "                        predicted_depth.unsqueeze(1),\n",
        "                        size=image.size[::-1],\n",
        "                        mode=\"bicubic\",\n",
        "                        align_corners=False,\n",
        "                 ).squeeze()\n",
        "    output = prediction.cpu().numpy()\n",
        "    formatted = (output * 255 / np.max(output)).astype('uint8')\n",
        "    img = Image.fromarray(formatted)\n",
        "    return img\n",
        "    \n",
        "    return result"
      ]
    },
    {
      "cell_type": "markdown",
      "source": [
        "# Run this next cell once you have imported all your pictures inside \"inputFolder\""
      ],
      "metadata": {
        "id": "IIm4ClC09ob3"
      }
    },
    {
      "cell_type": "code",
      "source": [
        "for filename in os.listdir(\"inputFolder\"):\n",
        "  if not filename.startswith(\".\"): \n",
        "    myimg = Image.open(\"inputFolder/\" + filename, mode='r')\n",
        "    processedimg = process_image(myimg)\n",
        "    processedimg.save(\"outputFolder/\" + filename)"
      ],
      "metadata": {
        "id": "GfvuQ4Js6fuo"
      },
      "execution_count": null,
      "outputs": []
    },
    {
      "cell_type": "markdown",
      "source": [
        "# Download the results by running this cell\n"
      ],
      "metadata": {
        "id": "OKH0to156_7Y"
      }
    },
    {
      "cell_type": "code",
      "source": [
        "!zip -r /content/outputFolder.zip /content/outputFolder\n",
        "files.download('/content/outputFolder.zip')"
      ],
      "metadata": {
        "id": "hZ6KK66Y_Fpv"
      },
      "execution_count": null,
      "outputs": []
    }
  ]
}