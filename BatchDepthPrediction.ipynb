{
  "nbformat": 4,
  "nbformat_minor": 0,
  "metadata": {
    "colab": {
      "provenance": []
    },
    "kernelspec": {
      "name": "python3",
      "display_name": "Python 3"
    },
    "language_info": {
      "name": "python"
    },
    "widgets": {
      "application/vnd.jupyter.widget-state+json": {
        "fe2e64dce18b4452a64d9c9a50c9da09": {
          "model_module": "@jupyter-widgets/controls",
          "model_name": "HBoxModel",
          "model_module_version": "1.5.0",
          "state": {
            "_dom_classes": [],
            "_model_module": "@jupyter-widgets/controls",
            "_model_module_version": "1.5.0",
            "_model_name": "HBoxModel",
            "_view_count": null,
            "_view_module": "@jupyter-widgets/controls",
            "_view_module_version": "1.5.0",
            "_view_name": "HBoxView",
            "box_style": "",
            "children": [
              "IPY_MODEL_97a2165714ce451eb8ecc1ae2f67dff0",
              "IPY_MODEL_19ec250c576146f39b57706450ca6ea7",
              "IPY_MODEL_ae010fc1bb9d45918a0801e19ad40406"
            ],
            "layout": "IPY_MODEL_4ead0890fd32449e8bec7b669fdcca0c"
          }
        },
        "97a2165714ce451eb8ecc1ae2f67dff0": {
          "model_module": "@jupyter-widgets/controls",
          "model_name": "HTMLModel",
          "model_module_version": "1.5.0",
          "state": {
            "_dom_classes": [],
            "_model_module": "@jupyter-widgets/controls",
            "_model_module_version": "1.5.0",
            "_model_name": "HTMLModel",
            "_view_count": null,
            "_view_module": "@jupyter-widgets/controls",
            "_view_module_version": "1.5.0",
            "_view_name": "HTMLView",
            "description": "",
            "description_tooltip": null,
            "layout": "IPY_MODEL_c39615f9fd764b398236d1b7347730f2",
            "placeholder": "​",
            "style": "IPY_MODEL_304cc7d39903451d8145bb2a1ea8a0dc",
            "value": "100%"
          }
        },
        "19ec250c576146f39b57706450ca6ea7": {
          "model_module": "@jupyter-widgets/controls",
          "model_name": "FloatProgressModel",
          "model_module_version": "1.5.0",
          "state": {
            "_dom_classes": [],
            "_model_module": "@jupyter-widgets/controls",
            "_model_module_version": "1.5.0",
            "_model_name": "FloatProgressModel",
            "_view_count": null,
            "_view_module": "@jupyter-widgets/controls",
            "_view_module_version": "1.5.0",
            "_view_name": "ProgressView",
            "bar_style": "success",
            "description": "",
            "description_tooltip": null,
            "layout": "IPY_MODEL_abe2ff8a6a484739bf8307b484bf578a",
            "max": 173131,
            "min": 0,
            "orientation": "horizontal",
            "style": "IPY_MODEL_aa0c82a49f62488abf8f5453fc1c44fb",
            "value": 173131
          }
        },
        "ae010fc1bb9d45918a0801e19ad40406": {
          "model_module": "@jupyter-widgets/controls",
          "model_name": "HTMLModel",
          "model_module_version": "1.5.0",
          "state": {
            "_dom_classes": [],
            "_model_module": "@jupyter-widgets/controls",
            "_model_module_version": "1.5.0",
            "_model_name": "HTMLModel",
            "_view_count": null,
            "_view_module": "@jupyter-widgets/controls",
            "_view_module_version": "1.5.0",
            "_view_name": "HTMLView",
            "description": "",
            "description_tooltip": null,
            "layout": "IPY_MODEL_2859ff24224c409a8f0d16404f780484",
            "placeholder": "​",
            "style": "IPY_MODEL_4f451f4c405d45f9819ce013f08b4f15",
            "value": " 169k/169k [00:00&lt;00:00, 1.51MB/s]"
          }
        },
        "4ead0890fd32449e8bec7b669fdcca0c": {
          "model_module": "@jupyter-widgets/base",
          "model_name": "LayoutModel",
          "model_module_version": "1.2.0",
          "state": {
            "_model_module": "@jupyter-widgets/base",
            "_model_module_version": "1.2.0",
            "_model_name": "LayoutModel",
            "_view_count": null,
            "_view_module": "@jupyter-widgets/base",
            "_view_module_version": "1.2.0",
            "_view_name": "LayoutView",
            "align_content": null,
            "align_items": null,
            "align_self": null,
            "border": null,
            "bottom": null,
            "display": null,
            "flex": null,
            "flex_flow": null,
            "grid_area": null,
            "grid_auto_columns": null,
            "grid_auto_flow": null,
            "grid_auto_rows": null,
            "grid_column": null,
            "grid_gap": null,
            "grid_row": null,
            "grid_template_areas": null,
            "grid_template_columns": null,
            "grid_template_rows": null,
            "height": null,
            "justify_content": null,
            "justify_items": null,
            "left": null,
            "margin": null,
            "max_height": null,
            "max_width": null,
            "min_height": null,
            "min_width": null,
            "object_fit": null,
            "object_position": null,
            "order": null,
            "overflow": null,
            "overflow_x": null,
            "overflow_y": null,
            "padding": null,
            "right": null,
            "top": null,
            "visibility": null,
            "width": null
          }
        },
        "c39615f9fd764b398236d1b7347730f2": {
          "model_module": "@jupyter-widgets/base",
          "model_name": "LayoutModel",
          "model_module_version": "1.2.0",
          "state": {
            "_model_module": "@jupyter-widgets/base",
            "_model_module_version": "1.2.0",
            "_model_name": "LayoutModel",
            "_view_count": null,
            "_view_module": "@jupyter-widgets/base",
            "_view_module_version": "1.2.0",
            "_view_name": "LayoutView",
            "align_content": null,
            "align_items": null,
            "align_self": null,
            "border": null,
            "bottom": null,
            "display": null,
            "flex": null,
            "flex_flow": null,
            "grid_area": null,
            "grid_auto_columns": null,
            "grid_auto_flow": null,
            "grid_auto_rows": null,
            "grid_column": null,
            "grid_gap": null,
            "grid_row": null,
            "grid_template_areas": null,
            "grid_template_columns": null,
            "grid_template_rows": null,
            "height": null,
            "justify_content": null,
            "justify_items": null,
            "left": null,
            "margin": null,
            "max_height": null,
            "max_width": null,
            "min_height": null,
            "min_width": null,
            "object_fit": null,
            "object_position": null,
            "order": null,
            "overflow": null,
            "overflow_x": null,
            "overflow_y": null,
            "padding": null,
            "right": null,
            "top": null,
            "visibility": null,
            "width": null
          }
        },
        "304cc7d39903451d8145bb2a1ea8a0dc": {
          "model_module": "@jupyter-widgets/controls",
          "model_name": "DescriptionStyleModel",
          "model_module_version": "1.5.0",
          "state": {
            "_model_module": "@jupyter-widgets/controls",
            "_model_module_version": "1.5.0",
            "_model_name": "DescriptionStyleModel",
            "_view_count": null,
            "_view_module": "@jupyter-widgets/base",
            "_view_module_version": "1.2.0",
            "_view_name": "StyleView",
            "description_width": ""
          }
        },
        "abe2ff8a6a484739bf8307b484bf578a": {
          "model_module": "@jupyter-widgets/base",
          "model_name": "LayoutModel",
          "model_module_version": "1.2.0",
          "state": {
            "_model_module": "@jupyter-widgets/base",
            "_model_module_version": "1.2.0",
            "_model_name": "LayoutModel",
            "_view_count": null,
            "_view_module": "@jupyter-widgets/base",
            "_view_module_version": "1.2.0",
            "_view_name": "LayoutView",
            "align_content": null,
            "align_items": null,
            "align_self": null,
            "border": null,
            "bottom": null,
            "display": null,
            "flex": null,
            "flex_flow": null,
            "grid_area": null,
            "grid_auto_columns": null,
            "grid_auto_flow": null,
            "grid_auto_rows": null,
            "grid_column": null,
            "grid_gap": null,
            "grid_row": null,
            "grid_template_areas": null,
            "grid_template_columns": null,
            "grid_template_rows": null,
            "height": null,
            "justify_content": null,
            "justify_items": null,
            "left": null,
            "margin": null,
            "max_height": null,
            "max_width": null,
            "min_height": null,
            "min_width": null,
            "object_fit": null,
            "object_position": null,
            "order": null,
            "overflow": null,
            "overflow_x": null,
            "overflow_y": null,
            "padding": null,
            "right": null,
            "top": null,
            "visibility": null,
            "width": null
          }
        },
        "aa0c82a49f62488abf8f5453fc1c44fb": {
          "model_module": "@jupyter-widgets/controls",
          "model_name": "ProgressStyleModel",
          "model_module_version": "1.5.0",
          "state": {
            "_model_module": "@jupyter-widgets/controls",
            "_model_module_version": "1.5.0",
            "_model_name": "ProgressStyleModel",
            "_view_count": null,
            "_view_module": "@jupyter-widgets/base",
            "_view_module_version": "1.2.0",
            "_view_name": "StyleView",
            "bar_color": null,
            "description_width": ""
          }
        },
        "2859ff24224c409a8f0d16404f780484": {
          "model_module": "@jupyter-widgets/base",
          "model_name": "LayoutModel",
          "model_module_version": "1.2.0",
          "state": {
            "_model_module": "@jupyter-widgets/base",
            "_model_module_version": "1.2.0",
            "_model_name": "LayoutModel",
            "_view_count": null,
            "_view_module": "@jupyter-widgets/base",
            "_view_module_version": "1.2.0",
            "_view_name": "LayoutView",
            "align_content": null,
            "align_items": null,
            "align_self": null,
            "border": null,
            "bottom": null,
            "display": null,
            "flex": null,
            "flex_flow": null,
            "grid_area": null,
            "grid_auto_columns": null,
            "grid_auto_flow": null,
            "grid_auto_rows": null,
            "grid_column": null,
            "grid_gap": null,
            "grid_row": null,
            "grid_template_areas": null,
            "grid_template_columns": null,
            "grid_template_rows": null,
            "height": null,
            "justify_content": null,
            "justify_items": null,
            "left": null,
            "margin": null,
            "max_height": null,
            "max_width": null,
            "min_height": null,
            "min_width": null,
            "object_fit": null,
            "object_position": null,
            "order": null,
            "overflow": null,
            "overflow_x": null,
            "overflow_y": null,
            "padding": null,
            "right": null,
            "top": null,
            "visibility": null,
            "width": null
          }
        },
        "4f451f4c405d45f9819ce013f08b4f15": {
          "model_module": "@jupyter-widgets/controls",
          "model_name": "DescriptionStyleModel",
          "model_module_version": "1.5.0",
          "state": {
            "_model_module": "@jupyter-widgets/controls",
            "_model_module_version": "1.5.0",
            "_model_name": "DescriptionStyleModel",
            "_view_count": null,
            "_view_module": "@jupyter-widgets/base",
            "_view_module_version": "1.2.0",
            "_view_name": "StyleView",
            "description_width": ""
          }
        }
      }
    }
  },
  "cells": [
    {
      "cell_type": "markdown",
      "source": [
        "# Batch Depth Prediction\n",
        "\n",
        "This Colab will allow you to import an unlimited amount of pictures (jpg or not jpg, many formats supported) and transform all of them into depth maps predictions. You can then download all of them as a zip file.\n",
        "\n",
        "How to Use:\n",
        "\n",
        "\n",
        "1.   Right click \"inputFolder\" -> Import -> Select and load all your files \n",
        "2.   Run all the next 3 cells in order, to prepare the image processor\n",
        "3.   Download \"outputFolder\", by running the 4th and last cell of this Colab\n",
        "\n",
        "(credits: https://huggingface.co/spaces/nielsr/dpt-depth-estimation  )\n"
      ],
      "metadata": {
        "id": "6niIqkjR-Ey4"
      }
    },
    {
      "cell_type": "markdown",
      "source": [
        "# Run the next two cells in order, to load the image processor"
      ],
      "metadata": {
        "id": "bpwnSLIL9xuu"
      }
    },
    {
      "cell_type": "code",
      "source": [
        "!pip install transformers\n",
        "!pip install -r requirements.txt"
      ],
      "metadata": {
        "id": "osiLwJLV5w5S"
      },
      "execution_count": null,
      "outputs": []
    },
    {
      "cell_type": "code",
      "execution_count": 14,
      "metadata": {
        "colab": {
          "base_uri": "https://localhost:8080/",
          "height": 104,
          "referenced_widgets": [
            "fe2e64dce18b4452a64d9c9a50c9da09",
            "97a2165714ce451eb8ecc1ae2f67dff0",
            "19ec250c576146f39b57706450ca6ea7",
            "ae010fc1bb9d45918a0801e19ad40406",
            "4ead0890fd32449e8bec7b669fdcca0c",
            "c39615f9fd764b398236d1b7347730f2",
            "304cc7d39903451d8145bb2a1ea8a0dc",
            "abe2ff8a6a484739bf8307b484bf578a",
            "aa0c82a49f62488abf8f5453fc1c44fb",
            "2859ff24224c409a8f0d16404f780484",
            "4f451f4c405d45f9819ce013f08b4f15"
          ]
        },
        "id": "w8ZEJLrr5i1W",
        "outputId": "b097b63f-cb82-4403-a0fa-01f0f8b1fafa"
      },
      "outputs": [
        {
          "output_type": "display_data",
          "data": {
            "text/plain": [
              "  0%|          | 0.00/169k [00:00<?, ?B/s]"
            ],
            "application/vnd.jupyter.widget-view+json": {
              "version_major": 2,
              "version_minor": 0,
              "model_id": "fe2e64dce18b4452a64d9c9a50c9da09"
            }
          },
          "metadata": {}
        },
        {
          "output_type": "stream",
          "name": "stderr",
          "text": [
            "Some weights of DPTForDepthEstimation were not initialized from the model checkpoint at Intel/dpt-large and are newly initialized: ['neck.fusion_stage.layers.0.residual_layer1.convolution2.bias', 'neck.fusion_stage.layers.0.residual_layer1.convolution1.weight', 'neck.fusion_stage.layers.0.residual_layer1.convolution2.weight', 'neck.fusion_stage.layers.0.residual_layer1.convolution1.bias']\n",
            "You should probably TRAIN this model on a down-stream task to be able to use it for predictions and inference.\n"
          ]
        }
      ],
      "source": [
        "from transformers import DPTFeatureExtractor, DPTForDepthEstimation\n",
        "import torch\n",
        "import numpy as np\n",
        "import os\n",
        "from PIL import Image\n",
        "from google.colab import files\n",
        "\n",
        "torch.hub.download_url_to_file('http://images.cocodataset.org/val2017/000000039769.jpg', 'cats.jpg')\n",
        "\n",
        "feature_extractor = DPTFeatureExtractor.from_pretrained(\"Intel/dpt-large\")\n",
        "model = DPTForDepthEstimation.from_pretrained(\"Intel/dpt-large\")\n",
        "\n",
        "def process_image(image):\n",
        "    # prepare image for the model\n",
        "    encoding = feature_extractor(image, return_tensors=\"pt\")\n",
        "    \n",
        "    # forward pass\n",
        "    with torch.no_grad():\n",
        "       outputs = model(**encoding)\n",
        "       predicted_depth = outputs.predicted_depth\n",
        "    \n",
        "    # interpolate to original size\n",
        "    prediction = torch.nn.functional.interpolate(\n",
        "                        predicted_depth.unsqueeze(1),\n",
        "                        size=image.size[::-1],\n",
        "                        mode=\"bicubic\",\n",
        "                        align_corners=False,\n",
        "                 ).squeeze()\n",
        "    output = prediction.cpu().numpy()\n",
        "    formatted = (output * 255 / np.max(output)).astype('uint8')\n",
        "    img = Image.fromarray(formatted)\n",
        "    return img\n",
        "    \n",
        "    return result"
      ]
    },
    {
      "cell_type": "markdown",
      "source": [
        "# Run this next cell once you have imported all your pictures inside \"inputFolder\""
      ],
      "metadata": {
        "id": "IIm4ClC09ob3"
      }
    },
    {
      "cell_type": "code",
      "source": [
        "for filename in os.listdir(\"inputFolder\"):\n",
        "  if not filename.startswith(\".\"): \n",
        "    myimg = Image.open(\"inputFolder/\" + filename, mode='r')\n",
        "    processedimg = process_image(myimg)\n",
        "    processedimg.save(\"outputFolder/\" + filename)"
      ],
      "metadata": {
        "id": "GfvuQ4Js6fuo"
      },
      "execution_count": 15,
      "outputs": []
    },
    {
      "cell_type": "markdown",
      "source": [
        "# Download the results by running this cell\n"
      ],
      "metadata": {
        "id": "OKH0to156_7Y"
      }
    },
    {
      "cell_type": "code",
      "source": [
        "!zip -r /content/outputFolder.zip /content/outputFolder\n",
        "files.download('/content/outputFolder.zip')"
      ],
      "metadata": {
        "colab": {
          "base_uri": "https://localhost:8080/",
          "height": 104
        },
        "id": "hZ6KK66Y_Fpv",
        "outputId": "4b3f094e-ebe8-4212-9b8c-fe4e2d2d2fb1"
      },
      "execution_count": 17,
      "outputs": [
        {
          "output_type": "stream",
          "name": "stdout",
          "text": [
            "updating: content/outputFolder/ (stored 0%)\n",
            "updating: content/outputFolder/Sagrada Familia del roble.jpg (deflated 32%)\n",
            "updating: content/outputFolder/.ipynb_checkpoints/ (stored 0%)\n",
            "updating: content/outputFolder/rafael.jpg (deflated 41%)\n",
            "updating: content/outputFolder/Caída en el camino del Calvario.jpg (deflated 41%)\n"
          ]
        },
        {
          "output_type": "display_data",
          "data": {
            "text/plain": [
              "<IPython.core.display.Javascript object>"
            ],
            "application/javascript": [
              "\n",
              "    async function download(id, filename, size) {\n",
              "      if (!google.colab.kernel.accessAllowed) {\n",
              "        return;\n",
              "      }\n",
              "      const div = document.createElement('div');\n",
              "      const label = document.createElement('label');\n",
              "      label.textContent = `Downloading \"${filename}\": `;\n",
              "      div.appendChild(label);\n",
              "      const progress = document.createElement('progress');\n",
              "      progress.max = size;\n",
              "      div.appendChild(progress);\n",
              "      document.body.appendChild(div);\n",
              "\n",
              "      const buffers = [];\n",
              "      let downloaded = 0;\n",
              "\n",
              "      const channel = await google.colab.kernel.comms.open(id);\n",
              "      // Send a message to notify the kernel that we're ready.\n",
              "      channel.send({})\n",
              "\n",
              "      for await (const message of channel.messages) {\n",
              "        // Send a message to notify the kernel that we're ready.\n",
              "        channel.send({})\n",
              "        if (message.buffers) {\n",
              "          for (const buffer of message.buffers) {\n",
              "            buffers.push(buffer);\n",
              "            downloaded += buffer.byteLength;\n",
              "            progress.value = downloaded;\n",
              "          }\n",
              "        }\n",
              "      }\n",
              "      const blob = new Blob(buffers, {type: 'application/binary'});\n",
              "      const a = document.createElement('a');\n",
              "      a.href = window.URL.createObjectURL(blob);\n",
              "      a.download = filename;\n",
              "      div.appendChild(a);\n",
              "      a.click();\n",
              "      div.remove();\n",
              "    }\n",
              "  "
            ]
          },
          "metadata": {}
        },
        {
          "output_type": "display_data",
          "data": {
            "text/plain": [
              "<IPython.core.display.Javascript object>"
            ],
            "application/javascript": [
              "download(\"download_bded97ed-d867-4f36-82aa-1041dbaa50e6\", \"outputFolder.zip\", 104056)"
            ]
          },
          "metadata": {}
        }
      ]
    }
  ]
}